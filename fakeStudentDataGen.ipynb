{
 "cells": [
  {
   "cell_type": "code",
   "execution_count": 102,
   "metadata": {},
   "outputs": [
    {
     "name": "stdout",
     "output_type": "stream",
     "text": [
      "successful dependency install\n"
     ]
    }
   ],
   "source": [
    "#import packages and dependencies\n",
    "\n",
    "from faker import Faker\n",
    "import random\n",
    "from random import randint\n",
    "import pandas as pd\n",
    "import datetime\n",
    "from datetime import timedelta\n",
    "\n",
    "fake = Faker()\n",
    "print(\"successful dependency install\")\n"
   ]
  },
  {
   "cell_type": "code",
   "execution_count": 103,
   "metadata": {},
   "outputs": [],
   "source": [
    "#student categories and student assignment weights\n",
    "category_dict = {\n",
    "    \"Academics\" : 10,\n",
    "      \"Creativity(STEM)\": 20, \n",
    "      \"Business & Finance\" : 30, \n",
    "      \"Health & Wellness\": 40, \n",
    "      \"History and Tradition\": 50\n",
    "      }\n"
   ]
  },
  {
   "cell_type": "code",
   "execution_count": 104,
   "metadata": {},
   "outputs": [],
   "source": [
    "#zip codes for Jacsonville\n",
    "zip_lst = [32034,32201,32202,32203,32204,32205,32206,32207,32208,32209,32210,32211]\n"
   ]
  },
  {
   "cell_type": "markdown",
   "metadata": {},
   "source": []
  },
  {
   "cell_type": "code",
   "execution_count": 105,
   "metadata": {},
   "outputs": [
    {
     "name": "stdout",
     "output_type": "stream",
     "text": [
      "grade weight for Student category: 32208\n"
     ]
    }
   ],
   "source": [
    "zip = random.choice(list(zip_lst))\n",
    "#zip = city_zipdict[city]\n",
    "#print(f'grade weight for Student category: {zip}')\n",
    "print(f'grade weight for Student category: {zip}')"
   ]
  },
  {
   "cell_type": "code",
   "execution_count": 106,
   "metadata": {},
   "outputs": [],
   "source": [
    "#Type of assignment\n",
    "assignment_type = [ \"In-Person\", \"Virtual\"]"
   ]
  },
  {
   "cell_type": "code",
   "execution_count": 107,
   "metadata": {},
   "outputs": [
    {
     "name": "stdout",
     "output_type": "stream",
     "text": [
      "Student category: Creativity(STEM)\n",
      "grade weight for Student category: 20\n"
     ]
    }
   ],
   "source": [
    "#randomize subject category\n",
    "\n",
    "#sanity checks and tests\n",
    "#print random category from dictionary and grade weight to match\n",
    "\n",
    "#get random key in dictionary\n",
    "key = random.choice(list(category_dict))\n",
    "print(f'Student category: {key}')\n",
    "#get corresponding value that matches random key\n",
    "value = category_dict[key]\n",
    "print(f'grade weight for Student category: {value}')\n"
   ]
  },
  {
   "cell_type": "code",
   "execution_count": 108,
   "metadata": {},
   "outputs": [
    {
     "name": "stdout",
     "output_type": "stream",
     "text": [
      "students score for Creativity(STEM) assignment: 8\n"
     ]
    }
   ],
   "source": [
    "#get students score for assignment\n",
    "score = random.choice(range(0, value))\n",
    "\n",
    "print(f'students score for {key} assignment: {score}')"
   ]
  },
  {
   "cell_type": "code",
   "execution_count": 109,
   "metadata": {},
   "outputs": [
    {
     "name": "stdout",
     "output_type": "stream",
     "text": [
      "Student was given the assigment on 2023-09-06\n",
      "Student submitted assignment on 2023-09-16\n"
     ]
    }
   ],
   "source": [
    "#assignment recieved ansd submission dates\n",
    "\n",
    "assignment_date = fake.date_between(start_date=\"-14d\", end_date=datetime.datetime.now())\n",
    "submission_date = fake.date_between(start_date=assignment_date, end_date=datetime.datetime.now())\n",
    "\n",
    "print(f'Student was given the assigment on {assignment_date}')\n",
    "print(f'Student submitted assignment on {submission_date}')"
   ]
  },
  {
   "cell_type": "code",
   "execution_count": 110,
   "metadata": {},
   "outputs": [
    {
     "data": {
      "text/html": [
       "<div>\n",
       "<style scoped>\n",
       "    .dataframe tbody tr th:only-of-type {\n",
       "        vertical-align: middle;\n",
       "    }\n",
       "\n",
       "    .dataframe tbody tr th {\n",
       "        vertical-align: top;\n",
       "    }\n",
       "\n",
       "    .dataframe thead th {\n",
       "        text-align: right;\n",
       "    }\n",
       "</style>\n",
       "<table border=\"1\" class=\"dataframe\">\n",
       "  <thead>\n",
       "    <tr style=\"text-align: right;\">\n",
       "      <th></th>\n",
       "      <th>Student Id</th>\n",
       "      <th>Student Name</th>\n",
       "      <th>Birthday</th>\n",
       "      <th>Zip Code</th>\n",
       "      <th>Assignment Type</th>\n",
       "      <th>Subject Category</th>\n",
       "      <th>Available Points</th>\n",
       "      <th>Points Recieved</th>\n",
       "      <th>Homework assigned</th>\n",
       "      <th>Homework Submitted</th>\n",
       "    </tr>\n",
       "  </thead>\n",
       "  <tbody>\n",
       "    <tr>\n",
       "      <th>0</th>\n",
       "      <td>84.0</td>\n",
       "      <td>Jordan Mcconnell</td>\n",
       "      <td>2004-09-08</td>\n",
       "      <td>32204.0</td>\n",
       "      <td>Virtual</td>\n",
       "      <td>History and Tradition</td>\n",
       "      <td>50.0</td>\n",
       "      <td>29.0</td>\n",
       "      <td>2023-09-16</td>\n",
       "      <td>2023-09-17</td>\n",
       "    </tr>\n",
       "    <tr>\n",
       "      <th>1</th>\n",
       "      <td>19.0</td>\n",
       "      <td>Victoria Wallace</td>\n",
       "      <td>2005-07-20</td>\n",
       "      <td>32034.0</td>\n",
       "      <td>In-Person</td>\n",
       "      <td>Creativity(STEM)</td>\n",
       "      <td>20.0</td>\n",
       "      <td>9.0</td>\n",
       "      <td>2023-09-09</td>\n",
       "      <td>2023-09-19</td>\n",
       "    </tr>\n",
       "    <tr>\n",
       "      <th>2</th>\n",
       "      <td>43.0</td>\n",
       "      <td>Scott James</td>\n",
       "      <td>2004-05-23</td>\n",
       "      <td>32034.0</td>\n",
       "      <td>Virtual</td>\n",
       "      <td>Creativity(STEM)</td>\n",
       "      <td>20.0</td>\n",
       "      <td>0.0</td>\n",
       "      <td>2023-09-09</td>\n",
       "      <td>2023-09-18</td>\n",
       "    </tr>\n",
       "    <tr>\n",
       "      <th>3</th>\n",
       "      <td>29.0</td>\n",
       "      <td>Martha Hayes</td>\n",
       "      <td>2006-07-25</td>\n",
       "      <td>32201.0</td>\n",
       "      <td>Virtual</td>\n",
       "      <td>History and Tradition</td>\n",
       "      <td>50.0</td>\n",
       "      <td>30.0</td>\n",
       "      <td>2023-09-13</td>\n",
       "      <td>2023-09-15</td>\n",
       "    </tr>\n",
       "    <tr>\n",
       "      <th>4</th>\n",
       "      <td>88.0</td>\n",
       "      <td>Rachel Baker</td>\n",
       "      <td>2002-05-18</td>\n",
       "      <td>32034.0</td>\n",
       "      <td>In-Person</td>\n",
       "      <td>Business &amp; Finance</td>\n",
       "      <td>30.0</td>\n",
       "      <td>23.0</td>\n",
       "      <td>2023-09-09</td>\n",
       "      <td>2023-09-17</td>\n",
       "    </tr>\n",
       "    <tr>\n",
       "      <th>5</th>\n",
       "      <td>7.0</td>\n",
       "      <td>Jennifer Clayton</td>\n",
       "      <td>2004-04-09</td>\n",
       "      <td>32201.0</td>\n",
       "      <td>In-Person</td>\n",
       "      <td>History and Tradition</td>\n",
       "      <td>50.0</td>\n",
       "      <td>46.0</td>\n",
       "      <td>2023-09-18</td>\n",
       "      <td>2023-09-18</td>\n",
       "    </tr>\n",
       "    <tr>\n",
       "      <th>6</th>\n",
       "      <td>58.0</td>\n",
       "      <td>Pamela Young</td>\n",
       "      <td>2002-06-25</td>\n",
       "      <td>32202.0</td>\n",
       "      <td>In-Person</td>\n",
       "      <td>History and Tradition</td>\n",
       "      <td>50.0</td>\n",
       "      <td>11.0</td>\n",
       "      <td>2023-09-06</td>\n",
       "      <td>2023-09-18</td>\n",
       "    </tr>\n",
       "    <tr>\n",
       "      <th>7</th>\n",
       "      <td>54.0</td>\n",
       "      <td>Sabrina Fry</td>\n",
       "      <td>2002-01-06</td>\n",
       "      <td>32202.0</td>\n",
       "      <td>In-Person</td>\n",
       "      <td>Business &amp; Finance</td>\n",
       "      <td>30.0</td>\n",
       "      <td>12.0</td>\n",
       "      <td>2023-09-13</td>\n",
       "      <td>2023-09-18</td>\n",
       "    </tr>\n",
       "    <tr>\n",
       "      <th>8</th>\n",
       "      <td>10.0</td>\n",
       "      <td>Andrew Davis</td>\n",
       "      <td>2002-12-19</td>\n",
       "      <td>32204.0</td>\n",
       "      <td>Virtual</td>\n",
       "      <td>Business &amp; Finance</td>\n",
       "      <td>30.0</td>\n",
       "      <td>0.0</td>\n",
       "      <td>2023-09-12</td>\n",
       "      <td>2023-09-18</td>\n",
       "    </tr>\n",
       "    <tr>\n",
       "      <th>9</th>\n",
       "      <td>81.0</td>\n",
       "      <td>Jacob Brooks</td>\n",
       "      <td>2005-03-31</td>\n",
       "      <td>32201.0</td>\n",
       "      <td>In-Person</td>\n",
       "      <td>Academics</td>\n",
       "      <td>10.0</td>\n",
       "      <td>8.0</td>\n",
       "      <td>2023-09-09</td>\n",
       "      <td>2023-09-19</td>\n",
       "    </tr>\n",
       "  </tbody>\n",
       "</table>\n",
       "</div>"
      ],
      "text/plain": [
       "   Student Id      Student Name    Birthday  Zip Code Assignment Type  \\\n",
       "0        84.0  Jordan Mcconnell  2004-09-08   32204.0         Virtual   \n",
       "1        19.0  Victoria Wallace  2005-07-20   32034.0       In-Person   \n",
       "2        43.0       Scott James  2004-05-23   32034.0         Virtual   \n",
       "3        29.0      Martha Hayes  2006-07-25   32201.0         Virtual   \n",
       "4        88.0      Rachel Baker  2002-05-18   32034.0       In-Person   \n",
       "5         7.0  Jennifer Clayton  2004-04-09   32201.0       In-Person   \n",
       "6        58.0      Pamela Young  2002-06-25   32202.0       In-Person   \n",
       "7        54.0       Sabrina Fry  2002-01-06   32202.0       In-Person   \n",
       "8        10.0      Andrew Davis  2002-12-19   32204.0         Virtual   \n",
       "9        81.0      Jacob Brooks  2005-03-31   32201.0       In-Person   \n",
       "\n",
       "        Subject Category  Available Points  Points Recieved Homework assigned  \\\n",
       "0  History and Tradition              50.0             29.0        2023-09-16   \n",
       "1       Creativity(STEM)              20.0              9.0        2023-09-09   \n",
       "2       Creativity(STEM)              20.0              0.0        2023-09-09   \n",
       "3  History and Tradition              50.0             30.0        2023-09-13   \n",
       "4     Business & Finance              30.0             23.0        2023-09-09   \n",
       "5  History and Tradition              50.0             46.0        2023-09-18   \n",
       "6  History and Tradition              50.0             11.0        2023-09-06   \n",
       "7     Business & Finance              30.0             12.0        2023-09-13   \n",
       "8     Business & Finance              30.0              0.0        2023-09-12   \n",
       "9              Academics              10.0              8.0        2023-09-09   \n",
       "\n",
       "  Homework Submitted  \n",
       "0         2023-09-17  \n",
       "1         2023-09-19  \n",
       "2         2023-09-18  \n",
       "3         2023-09-15  \n",
       "4         2023-09-17  \n",
       "5         2023-09-18  \n",
       "6         2023-09-18  \n",
       "7         2023-09-18  \n",
       "8         2023-09-18  \n",
       "9         2023-09-19  "
      ]
     },
     "execution_count": 110,
     "metadata": {},
     "output_type": "execute_result"
    }
   ],
   "source": [
    "#put data in dataframe/ most cases have been moved insode the function\n",
    "\n",
    "def generate_data(x):\n",
    "\n",
    "    data = pd.DataFrame()\n",
    "    \n",
    "   \n",
    "\n",
    "    for i in range(0,x):\n",
    "        zip_lst = [32034,32201,32202,32203,32204,32205]\n",
    "        assignment_lst = [ \"In-Person\", \"Virtual\"]\n",
    "\n",
    "        category_dict = {\n",
    "    \"Academics\" : 10,\n",
    "      \"Creativity(STEM)\": 20, \n",
    "      \"Business & Finance\" : 30, \n",
    "      \"Health & Wellness\": 40, \n",
    "      \"History and Tradition\": 50\n",
    "      }\n",
    "        key = random.choice(list(category_dict))\n",
    "        value = category_dict[key]\n",
    "        score = random.choice(range(0, value))\n",
    "\n",
    "        zip = random.choice(list(zip_lst))\n",
    "        assignment_type = random.choice(list(assignment_lst))\n",
    "\n",
    "        assignment_date = fake.date_between(start_date=\"-14d\", end_date=datetime.datetime.now())\n",
    "        submission_date = fake.date_between(start_date=assignment_date, end_date=datetime.datetime.now())\n",
    "\n",
    "\n",
    "     \n",
    "        data.loc[i, 'Student Id'] = randint(1,100)\n",
    "        data.loc[i, 'Student Name'] = fake.name_nonbinary()\n",
    "        #data.loc[i, 'Gender'] = \n",
    "        data.loc[i, 'Birthday'] = fake.date_of_birth(minimum_age=17, maximum_age=22)\n",
    "        data.loc[i, 'Zip Code'] = zip\n",
    "        data.loc[i, 'Assignment Type'] = assignment_type\n",
    "        data.loc[i, 'Subject Category'] = key\n",
    "        data.loc[i, 'Available Points'] = value\n",
    "        data.loc[i, 'Points Recieved'] = score\n",
    "        data.loc[i, 'Homework assigned'] = assignment_date\n",
    "        data.loc[i, 'Homework Submitted'] = submission_date\n",
    "    return data\n",
    "\n",
    "\n",
    "generate_data(10)\n",
    "\n",
    "\n",
    "\n"
   ]
  }
 ],
 "metadata": {
  "kernelspec": {
   "display_name": "Python 3",
   "language": "python",
   "name": "python3"
  },
  "language_info": {
   "codemirror_mode": {
    "name": "ipython",
    "version": 3
   },
   "file_extension": ".py",
   "mimetype": "text/x-python",
   "name": "python",
   "nbconvert_exporter": "python",
   "pygments_lexer": "ipython3",
   "version": "3.10.5"
  },
  "orig_nbformat": 4
 },
 "nbformat": 4,
 "nbformat_minor": 2
}
