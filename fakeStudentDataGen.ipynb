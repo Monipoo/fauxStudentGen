{
 "cells": [
  {
   "cell_type": "code",
   "execution_count": 35,
   "metadata": {},
   "outputs": [
    {
     "name": "stdout",
     "output_type": "stream",
     "text": [
      "successful dependency install\n"
     ]
    }
   ],
   "source": [
    "#import packages and dependencies\n",
    "\n",
    "from faker import Faker\n",
    "import random\n",
    "from random import randint\n",
    "import pandas as pd\n",
    "import datetime\n",
    "from datetime import timedelta\n",
    "\n",
    "fake = Faker()\n",
    "print(\"successful dependency install\")\n"
   ]
  },
  {
   "cell_type": "code",
   "execution_count": 36,
   "metadata": {},
   "outputs": [],
   "source": [
    "#student categories and student assignment weights\n",
    "category_dict = {\n",
    "    \"Academics\" : 10,\n",
    "      \"Creativity(STEM)\": 20, \n",
    "      \"Business & Finance\" : 30, \n",
    "      \"Health & Wellness\": 40, \n",
    "      \"History and Tradition\": 50\n",
    "      }\n"
   ]
  },
  {
   "cell_type": "code",
   "execution_count": 37,
   "metadata": {},
   "outputs": [
    {
     "name": "stdout",
     "output_type": "stream",
     "text": [
      "Student category: Creativity(STEM)\n",
      "grade weight for Student category: 20\n"
     ]
    }
   ],
   "source": [
    "#randomize subject category\n",
    "\n",
    "#sanity checks and tests\n",
    "#print random category from dictionary and grade weight to match\n",
    "\n",
    "#get random key in dictionary\n",
    "key = random.choice(list(category_dict))\n",
    "print(f'Student category: {key}')\n",
    "#get corresponding value that matches random key\n",
    "value = category_dict[key]\n",
    "print(f'grade weight for Student category: {value}')\n"
   ]
  },
  {
   "cell_type": "code",
   "execution_count": 38,
   "metadata": {},
   "outputs": [
    {
     "name": "stdout",
     "output_type": "stream",
     "text": [
      "students score for Creativity(STEM) assignment: 10\n"
     ]
    }
   ],
   "source": [
    "#get students score for assignment\n",
    "score = random.choice(range(0, value))\n",
    "\n",
    "print(f'students score for {key} assignment: {score}')"
   ]
  },
  {
   "cell_type": "code",
   "execution_count": 50,
   "metadata": {},
   "outputs": [
    {
     "name": "stdout",
     "output_type": "stream",
     "text": [
      "Student was given the assigment on 2023-09-11\n",
      "Student submitted assignment on 2023-09-13\n"
     ]
    }
   ],
   "source": [
    "#assignment recieved ansd submission dates\n",
    "\n",
    "assignment_date = fake.date_between(start_date=\"-14d\", end_date=datetime.datetime.now())\n",
    "submission_date = fake.date_between(start_date=assignment_date, end_date=datetime.datetime.now())\n",
    "\n",
    "print(f'Student was given the assigment on {assignment_date}')\n",
    "print(f'Student submitted assignment on {submission_date}')"
   ]
  },
  {
   "cell_type": "code",
   "execution_count": 55,
   "metadata": {},
   "outputs": [
    {
     "data": {
      "text/html": [
       "<div>\n",
       "<style scoped>\n",
       "    .dataframe tbody tr th:only-of-type {\n",
       "        vertical-align: middle;\n",
       "    }\n",
       "\n",
       "    .dataframe tbody tr th {\n",
       "        vertical-align: top;\n",
       "    }\n",
       "\n",
       "    .dataframe thead th {\n",
       "        text-align: right;\n",
       "    }\n",
       "</style>\n",
       "<table border=\"1\" class=\"dataframe\">\n",
       "  <thead>\n",
       "    <tr style=\"text-align: right;\">\n",
       "      <th></th>\n",
       "      <th>Student Id</th>\n",
       "      <th>Student Name</th>\n",
       "      <th>Subject Category</th>\n",
       "      <th>Available Points</th>\n",
       "      <th>Points Recieved</th>\n",
       "      <th>Homework assigned</th>\n",
       "      <th>Homework Submitted</th>\n",
       "    </tr>\n",
       "  </thead>\n",
       "  <tbody>\n",
       "    <tr>\n",
       "      <th>0</th>\n",
       "      <td>4.0</td>\n",
       "      <td>Ryan Tyler</td>\n",
       "      <td>Business &amp; Finance</td>\n",
       "      <td>30.0</td>\n",
       "      <td>25.0</td>\n",
       "      <td>2023-09-15</td>\n",
       "      <td>2023-09-15</td>\n",
       "    </tr>\n",
       "    <tr>\n",
       "      <th>1</th>\n",
       "      <td>68.0</td>\n",
       "      <td>Dustin Pennington</td>\n",
       "      <td>Health &amp; Wellness</td>\n",
       "      <td>40.0</td>\n",
       "      <td>1.0</td>\n",
       "      <td>2023-09-06</td>\n",
       "      <td>2023-09-12</td>\n",
       "    </tr>\n",
       "    <tr>\n",
       "      <th>2</th>\n",
       "      <td>35.0</td>\n",
       "      <td>Alicia James</td>\n",
       "      <td>Academics</td>\n",
       "      <td>10.0</td>\n",
       "      <td>2.0</td>\n",
       "      <td>2023-09-06</td>\n",
       "      <td>2023-09-06</td>\n",
       "    </tr>\n",
       "    <tr>\n",
       "      <th>3</th>\n",
       "      <td>63.0</td>\n",
       "      <td>Kelly Salas</td>\n",
       "      <td>Creativity(STEM)</td>\n",
       "      <td>20.0</td>\n",
       "      <td>11.0</td>\n",
       "      <td>2023-09-11</td>\n",
       "      <td>2023-09-14</td>\n",
       "    </tr>\n",
       "    <tr>\n",
       "      <th>4</th>\n",
       "      <td>3.0</td>\n",
       "      <td>Christopher Simpson</td>\n",
       "      <td>Academics</td>\n",
       "      <td>10.0</td>\n",
       "      <td>6.0</td>\n",
       "      <td>2023-09-05</td>\n",
       "      <td>2023-09-11</td>\n",
       "    </tr>\n",
       "  </tbody>\n",
       "</table>\n",
       "</div>"
      ],
      "text/plain": [
       "   Student Id         Student Name    Subject Category  Available Points  \\\n",
       "0         4.0           Ryan Tyler  Business & Finance              30.0   \n",
       "1        68.0    Dustin Pennington   Health & Wellness              40.0   \n",
       "2        35.0         Alicia James           Academics              10.0   \n",
       "3        63.0          Kelly Salas    Creativity(STEM)              20.0   \n",
       "4         3.0  Christopher Simpson           Academics              10.0   \n",
       "\n",
       "   Points Recieved Homework assigned Homework Submitted  \n",
       "0             25.0        2023-09-15         2023-09-15  \n",
       "1              1.0        2023-09-06         2023-09-12  \n",
       "2              2.0        2023-09-06         2023-09-06  \n",
       "3             11.0        2023-09-11         2023-09-14  \n",
       "4              6.0        2023-09-05         2023-09-11  "
      ]
     },
     "execution_count": 55,
     "metadata": {},
     "output_type": "execute_result"
    }
   ],
   "source": [
    "#put data in dataframe/ most cases have been moved insode the function\n",
    "\n",
    "def generate_data(x):\n",
    "\n",
    "    data = pd.DataFrame()\n",
    "\n",
    "    for i in range(0,x):\n",
    "        \n",
    "        category_dict = {\n",
    "    \"Academics\" : 10,\n",
    "      \"Creativity(STEM)\": 20, \n",
    "      \"Business & Finance\" : 30, \n",
    "      \"Health & Wellness\": 40, \n",
    "      \"History and Tradition\": 50\n",
    "      }\n",
    "        key = random.choice(list(category_dict))\n",
    "        value = category_dict[key]\n",
    "        score = random.choice(range(0, value))\n",
    "\n",
    "        assignment_date = fake.date_between(start_date=\"-14d\", end_date=datetime.datetime.now())\n",
    "        submission_date = fake.date_between(start_date=assignment_date, end_date=datetime.datetime.now())\n",
    "\n",
    "\n",
    "     \n",
    "        data.loc[i, 'Student Id'] = randint(1,100)\n",
    "        data.loc[i, 'Student Name'] = fake.name_nonbinary()\n",
    "        data.loc[i, 'Subject Category'] = key\n",
    "        data.loc[i, 'Available Points'] = value\n",
    "        data.loc[i, 'Points Recieved'] = score\n",
    "        data.loc[i, 'Homework assigned'] = assignment_date\n",
    "        data.loc[i, 'Homework Submitted'] = submission_date\n",
    "    return data\n",
    "\n",
    "\n",
    "generate_data(10)\n",
    "\n",
    "\n",
    "\n"
   ]
  }
 ],
 "metadata": {
  "kernelspec": {
   "display_name": "Python 3",
   "language": "python",
   "name": "python3"
  },
  "language_info": {
   "codemirror_mode": {
    "name": "ipython",
    "version": 3
   },
   "file_extension": ".py",
   "mimetype": "text/x-python",
   "name": "python",
   "nbconvert_exporter": "python",
   "pygments_lexer": "ipython3",
   "version": "3.10.5"
  },
  "orig_nbformat": 4
 },
 "nbformat": 4,
 "nbformat_minor": 2
}
