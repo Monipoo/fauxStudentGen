{
 "cells": [
  {
   "cell_type": "code",
   "execution_count": 40,
   "metadata": {},
   "outputs": [
    {
     "name": "stdout",
     "output_type": "stream",
     "text": [
      "successful dependency install\n"
     ]
    }
   ],
   "source": [
    "#import packages and dependencies\n",
    "\n",
    "from faker import Faker\n",
    "import random\n",
    "from random import randint\n",
    "import pandas as pd\n",
    "import datetime\n",
    "from datetime import timedelta\n",
    "\n",
    "fake = Faker()\n",
    "print(\"successful dependency install\")\n"
   ]
  },
  {
   "cell_type": "code",
   "execution_count": 41,
   "metadata": {},
   "outputs": [],
   "source": [
    "#student categories and student assignment weights\n",
    "category_dict = {\n",
    "    \"Academics\" : 10,\n",
    "      \"Creativity(STEM)\": 20, \n",
    "      \"Business & Finance\" : 30, \n",
    "      \"Health & Wellness\": 40, \n",
    "      \"History and Tradition\": 50\n",
    "      }\n"
   ]
  },
  {
   "cell_type": "code",
   "execution_count": 53,
   "metadata": {},
   "outputs": [],
   "source": [
    "#zip codes for Jacsonville\n",
    "city_zipdict = [32034,32201,32202,32203,32204,32205]\n"
   ]
  },
  {
   "cell_type": "code",
   "execution_count": 69,
   "metadata": {},
   "outputs": [
    {
     "name": "stdout",
     "output_type": "stream",
     "text": [
      "grade weight for Student category: 32205\n",
      "grade weight for Student category: Jacksonville\n"
     ]
    }
   ],
   "source": [
    "city = random.choice(list(city_zipdict))\n",
    "zip = city_zipdict[city]\n",
    "print(f'grade weight for Student category: {zip}')\n",
    "print(f'grade weight for Student category: {city}')"
   ]
  },
  {
   "cell_type": "code",
   "execution_count": null,
   "metadata": {},
   "outputs": [],
   "source": [
    "#Type of assignment\n",
    "assignment_type = {\n",
    "    \n",
    "    \"Assignment Type\": \"In-Person\"\n",
    "    \"Assignment Type\": \"Virtual\"\n",
    "}"
   ]
  },
  {
   "cell_type": "code",
   "execution_count": null,
   "metadata": {},
   "outputs": [
    {
     "name": "stdout",
     "output_type": "stream",
     "text": [
      "Student category: Business & Finance\n",
      "grade weight for Student category: 30\n"
     ]
    }
   ],
   "source": [
    "#randomize subject category\n",
    "\n",
    "#sanity checks and tests\n",
    "#print random category from dictionary and grade weight to match\n",
    "\n",
    "#get random key in dictionary\n",
    "key = random.choice(list(category_dict))\n",
    "print(f'Student category: {key}')\n",
    "#get corresponding value that matches random key\n",
    "value = category_dict[key]\n",
    "print(f'grade weight for Student category: {value}')\n"
   ]
  },
  {
   "cell_type": "code",
   "execution_count": null,
   "metadata": {},
   "outputs": [
    {
     "name": "stdout",
     "output_type": "stream",
     "text": [
      "students score for Business & Finance assignment: 6\n"
     ]
    }
   ],
   "source": [
    "#get students score for assignment\n",
    "score = random.choice(range(0, value))\n",
    "\n",
    "print(f'students score for {key} assignment: {score}')"
   ]
  },
  {
   "cell_type": "code",
   "execution_count": null,
   "metadata": {},
   "outputs": [
    {
     "name": "stdout",
     "output_type": "stream",
     "text": [
      "Student was given the assigment on 2023-09-09\n",
      "Student submitted assignment on 2023-09-15\n"
     ]
    }
   ],
   "source": [
    "#assignment recieved ansd submission dates\n",
    "\n",
    "assignment_date = fake.date_between(start_date=\"-14d\", end_date=datetime.datetime.now())\n",
    "submission_date = fake.date_between(start_date=assignment_date, end_date=datetime.datetime.now())\n",
    "\n",
    "print(f'Student was given the assigment on {assignment_date}')\n",
    "print(f'Student submitted assignment on {submission_date}')"
   ]
  },
  {
   "cell_type": "code",
   "execution_count": 74,
   "metadata": {},
   "outputs": [
    {
     "data": {
      "text/html": [
       "<div>\n",
       "<style scoped>\n",
       "    .dataframe tbody tr th:only-of-type {\n",
       "        vertical-align: middle;\n",
       "    }\n",
       "\n",
       "    .dataframe tbody tr th {\n",
       "        vertical-align: top;\n",
       "    }\n",
       "\n",
       "    .dataframe thead th {\n",
       "        text-align: right;\n",
       "    }\n",
       "</style>\n",
       "<table border=\"1\" class=\"dataframe\">\n",
       "  <thead>\n",
       "    <tr style=\"text-align: right;\">\n",
       "      <th></th>\n",
       "      <th>Student Id</th>\n",
       "      <th>Student Name</th>\n",
       "      <th>Birthday</th>\n",
       "      <th>Zip Code</th>\n",
       "      <th>Subject Category</th>\n",
       "      <th>Available Points</th>\n",
       "      <th>Points Recieved</th>\n",
       "      <th>Homework assigned</th>\n",
       "      <th>Homework Submitted</th>\n",
       "    </tr>\n",
       "  </thead>\n",
       "  <tbody>\n",
       "    <tr>\n",
       "      <th>0</th>\n",
       "      <td>46.0</td>\n",
       "      <td>Sarah Williams</td>\n",
       "      <td>2000-10-02</td>\n",
       "      <td>32205.0</td>\n",
       "      <td>History and Tradition</td>\n",
       "      <td>50.0</td>\n",
       "      <td>41.0</td>\n",
       "      <td>2023-09-06</td>\n",
       "      <td>2023-09-06</td>\n",
       "    </tr>\n",
       "    <tr>\n",
       "      <th>1</th>\n",
       "      <td>40.0</td>\n",
       "      <td>Henry Edwards</td>\n",
       "      <td>2003-11-14</td>\n",
       "      <td>32205.0</td>\n",
       "      <td>History and Tradition</td>\n",
       "      <td>50.0</td>\n",
       "      <td>48.0</td>\n",
       "      <td>2023-09-09</td>\n",
       "      <td>2023-09-15</td>\n",
       "    </tr>\n",
       "    <tr>\n",
       "      <th>2</th>\n",
       "      <td>22.0</td>\n",
       "      <td>David Kirby</td>\n",
       "      <td>2005-10-19</td>\n",
       "      <td>32205.0</td>\n",
       "      <td>Academics</td>\n",
       "      <td>10.0</td>\n",
       "      <td>6.0</td>\n",
       "      <td>2023-09-13</td>\n",
       "      <td>2023-09-17</td>\n",
       "    </tr>\n",
       "    <tr>\n",
       "      <th>3</th>\n",
       "      <td>92.0</td>\n",
       "      <td>Mark Davis</td>\n",
       "      <td>2005-01-17</td>\n",
       "      <td>32205.0</td>\n",
       "      <td>History and Tradition</td>\n",
       "      <td>50.0</td>\n",
       "      <td>41.0</td>\n",
       "      <td>2023-09-14</td>\n",
       "      <td>2023-09-16</td>\n",
       "    </tr>\n",
       "    <tr>\n",
       "      <th>4</th>\n",
       "      <td>75.0</td>\n",
       "      <td>Kathleen Lucas</td>\n",
       "      <td>2005-08-02</td>\n",
       "      <td>32205.0</td>\n",
       "      <td>Business &amp; Finance</td>\n",
       "      <td>30.0</td>\n",
       "      <td>12.0</td>\n",
       "      <td>2023-09-07</td>\n",
       "      <td>2023-09-19</td>\n",
       "    </tr>\n",
       "    <tr>\n",
       "      <th>5</th>\n",
       "      <td>63.0</td>\n",
       "      <td>Reginald Mcgee</td>\n",
       "      <td>2005-02-12</td>\n",
       "      <td>32205.0</td>\n",
       "      <td>Health &amp; Wellness</td>\n",
       "      <td>40.0</td>\n",
       "      <td>26.0</td>\n",
       "      <td>2023-09-13</td>\n",
       "      <td>2023-09-15</td>\n",
       "    </tr>\n",
       "    <tr>\n",
       "      <th>6</th>\n",
       "      <td>2.0</td>\n",
       "      <td>Robert Stein</td>\n",
       "      <td>2004-10-12</td>\n",
       "      <td>32205.0</td>\n",
       "      <td>Academics</td>\n",
       "      <td>10.0</td>\n",
       "      <td>3.0</td>\n",
       "      <td>2023-09-06</td>\n",
       "      <td>2023-09-18</td>\n",
       "    </tr>\n",
       "    <tr>\n",
       "      <th>7</th>\n",
       "      <td>46.0</td>\n",
       "      <td>Nicholas Porter</td>\n",
       "      <td>2004-05-02</td>\n",
       "      <td>32205.0</td>\n",
       "      <td>Health &amp; Wellness</td>\n",
       "      <td>40.0</td>\n",
       "      <td>27.0</td>\n",
       "      <td>2023-09-18</td>\n",
       "      <td>2023-09-19</td>\n",
       "    </tr>\n",
       "    <tr>\n",
       "      <th>8</th>\n",
       "      <td>65.0</td>\n",
       "      <td>Matthew Moore</td>\n",
       "      <td>2004-01-25</td>\n",
       "      <td>32205.0</td>\n",
       "      <td>History and Tradition</td>\n",
       "      <td>50.0</td>\n",
       "      <td>18.0</td>\n",
       "      <td>2023-09-19</td>\n",
       "      <td>2023-09-19</td>\n",
       "    </tr>\n",
       "    <tr>\n",
       "      <th>9</th>\n",
       "      <td>77.0</td>\n",
       "      <td>Kathryn Reeves</td>\n",
       "      <td>2004-05-15</td>\n",
       "      <td>32205.0</td>\n",
       "      <td>History and Tradition</td>\n",
       "      <td>50.0</td>\n",
       "      <td>33.0</td>\n",
       "      <td>2023-09-19</td>\n",
       "      <td>2023-09-19</td>\n",
       "    </tr>\n",
       "  </tbody>\n",
       "</table>\n",
       "</div>"
      ],
      "text/plain": [
       "   Student Id     Student Name    Birthday  Zip Code       Subject Category  \\\n",
       "0        46.0   Sarah Williams  2000-10-02   32205.0  History and Tradition   \n",
       "1        40.0    Henry Edwards  2003-11-14   32205.0  History and Tradition   \n",
       "2        22.0      David Kirby  2005-10-19   32205.0              Academics   \n",
       "3        92.0       Mark Davis  2005-01-17   32205.0  History and Tradition   \n",
       "4        75.0   Kathleen Lucas  2005-08-02   32205.0     Business & Finance   \n",
       "5        63.0   Reginald Mcgee  2005-02-12   32205.0      Health & Wellness   \n",
       "6         2.0     Robert Stein  2004-10-12   32205.0              Academics   \n",
       "7        46.0  Nicholas Porter  2004-05-02   32205.0      Health & Wellness   \n",
       "8        65.0    Matthew Moore  2004-01-25   32205.0  History and Tradition   \n",
       "9        77.0   Kathryn Reeves  2004-05-15   32205.0  History and Tradition   \n",
       "\n",
       "   Available Points  Points Recieved Homework assigned Homework Submitted  \n",
       "0              50.0             41.0        2023-09-06         2023-09-06  \n",
       "1              50.0             48.0        2023-09-09         2023-09-15  \n",
       "2              10.0              6.0        2023-09-13         2023-09-17  \n",
       "3              50.0             41.0        2023-09-14         2023-09-16  \n",
       "4              30.0             12.0        2023-09-07         2023-09-19  \n",
       "5              40.0             26.0        2023-09-13         2023-09-15  \n",
       "6              10.0              3.0        2023-09-06         2023-09-18  \n",
       "7              40.0             27.0        2023-09-18         2023-09-19  \n",
       "8              50.0             18.0        2023-09-19         2023-09-19  \n",
       "9              50.0             33.0        2023-09-19         2023-09-19  "
      ]
     },
     "execution_count": 74,
     "metadata": {},
     "output_type": "execute_result"
    }
   ],
   "source": [
    "#put data in dataframe/ most cases have been moved insode the function\n",
    "\n",
    "def generate_data(x):\n",
    "\n",
    "    data = pd.DataFrame()\n",
    "    \n",
    "   \n",
    "\n",
    "    for i in range(0,x):\n",
    "\n",
    "        city_zipdict = {\n",
    "    \"Jacsonville\":32034,\n",
    "    \"Jacsonville\":32201,\n",
    "    \"Jacsonville\":32202,\n",
    "    \"Jacsonville\":32203,\n",
    "    \"Jacsonville\":32204,\n",
    "    \"Jacsonville\":32205\n",
    "}\n",
    "        \n",
    "        \n",
    "        category_dict = {\n",
    "    \"Academics\" : 10,\n",
    "      \"Creativity(STEM)\": 20, \n",
    "      \"Business & Finance\" : 30, \n",
    "      \"Health & Wellness\": 40, \n",
    "      \"History and Tradition\": 50\n",
    "      }\n",
    "        key = random.choice(list(category_dict))\n",
    "        value = category_dict[key]\n",
    "        score = random.choice(range(0, value))\n",
    "\n",
    "        city = random.choice(list(city_zipdict))\n",
    "        zip = city_zipdict[city]\n",
    "\n",
    "        assignment_date = fake.date_between(start_date=\"-14d\", end_date=datetime.datetime.now())\n",
    "        submission_date = fake.date_between(start_date=assignment_date, end_date=datetime.datetime.now())\n",
    "\n",
    "\n",
    "     \n",
    "        data.loc[i, 'Student Id'] = randint(1,100)\n",
    "        data.loc[i, 'Student Name'] = fake.name_nonbinary()\n",
    "        #data.loc[i, 'Gender'] = \n",
    "        data.loc[i, 'Birthday'] = fake.date_of_birth(minimum_age=17, maximum_age=22)\n",
    "        data.loc[i, 'Zip Code'] = zip\n",
    "        data.loc[i, 'Subject Category'] = key\n",
    "        data.loc[i, 'Available Points'] = value\n",
    "        data.loc[i, 'Points Recieved'] = score\n",
    "        data.loc[i, 'Homework assigned'] = assignment_date\n",
    "        data.loc[i, 'Homework Submitted'] = submission_date\n",
    "    return data\n",
    "\n",
    "\n",
    "generate_data(10)\n",
    "\n",
    "\n",
    "\n"
   ]
  }
 ],
 "metadata": {
  "kernelspec": {
   "display_name": "Python 3",
   "language": "python",
   "name": "python3"
  },
  "language_info": {
   "codemirror_mode": {
    "name": "ipython",
    "version": 3
   },
   "file_extension": ".py",
   "mimetype": "text/x-python",
   "name": "python",
   "nbconvert_exporter": "python",
   "pygments_lexer": "ipython3",
   "version": "3.10.5"
  },
  "orig_nbformat": 4
 },
 "nbformat": 4,
 "nbformat_minor": 2
}
