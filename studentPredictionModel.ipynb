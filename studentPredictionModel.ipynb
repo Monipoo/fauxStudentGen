{
 "cells": [
  {
   "cell_type": "code",
   "execution_count": 10,
   "metadata": {},
   "outputs": [
    {
     "ename": "ImportError",
     "evalue": "cannot import name 'StandardScaler' from 'sklearn.model_selection' (/Library/Frameworks/Python.framework/Versions/3.10/lib/python3.10/site-packages/sklearn/model_selection/__init__.py)",
     "output_type": "error",
     "traceback": [
      "\u001b[0;31m---------------------------------------------------------------------------\u001b[0m",
      "\u001b[0;31mImportError\u001b[0m                               Traceback (most recent call last)",
      "\u001b[1;32m/Users/moni/Desktop/Scratchwerk/Projects/StudentAssignmentPredictionModel/fauxStudentGen/studentPredictionModel.ipynb Cell 1\u001b[0m line \u001b[0;36m<cell line: 15>\u001b[0;34m()\u001b[0m\n\u001b[1;32m     <a href='vscode-notebook-cell:/Users/moni/Desktop/Scratchwerk/Projects/StudentAssignmentPredictionModel/fauxStudentGen/studentPredictionModel.ipynb#W0sZmlsZQ%3D%3D?line=12'>13</a>\u001b[0m \u001b[39mfrom\u001b[39;00m \u001b[39msklearn\u001b[39;00m\u001b[39m.\u001b[39;00m\u001b[39mmodel_selection\u001b[39;00m \u001b[39mimport\u001b[39;00m RandomizedSearchCV, train_test_split\n\u001b[1;32m     <a href='vscode-notebook-cell:/Users/moni/Desktop/Scratchwerk/Projects/StudentAssignmentPredictionModel/fauxStudentGen/studentPredictionModel.ipynb#W0sZmlsZQ%3D%3D?line=13'>14</a>\u001b[0m \u001b[39mfrom\u001b[39;00m \u001b[39mscipy\u001b[39;00m\u001b[39m.\u001b[39;00m\u001b[39mstats\u001b[39;00m \u001b[39mimport\u001b[39;00m randint\n\u001b[0;32m---> <a href='vscode-notebook-cell:/Users/moni/Desktop/Scratchwerk/Projects/StudentAssignmentPredictionModel/fauxStudentGen/studentPredictionModel.ipynb#W0sZmlsZQ%3D%3D?line=14'>15</a>\u001b[0m \u001b[39mfrom\u001b[39;00m \u001b[39msklearn\u001b[39;00m\u001b[39m.\u001b[39;00m\u001b[39mmodel_selection\u001b[39;00m \u001b[39mimport\u001b[39;00m StandardScaler\n\u001b[1;32m     <a href='vscode-notebook-cell:/Users/moni/Desktop/Scratchwerk/Projects/StudentAssignmentPredictionModel/fauxStudentGen/studentPredictionModel.ipynb#W0sZmlsZQ%3D%3D?line=15'>16</a>\u001b[0m \u001b[39m#Tree visualization\u001b[39;00m\n\u001b[1;32m     <a href='vscode-notebook-cell:/Users/moni/Desktop/Scratchwerk/Projects/StudentAssignmentPredictionModel/fauxStudentGen/studentPredictionModel.ipynb#W0sZmlsZQ%3D%3D?line=16'>17</a>\u001b[0m \u001b[39mfrom\u001b[39;00m \u001b[39msklearn\u001b[39;00m\u001b[39m.\u001b[39;00m\u001b[39mtree\u001b[39;00m \u001b[39mimport\u001b[39;00m export_graphviz\n",
      "\u001b[0;31mImportError\u001b[0m: cannot import name 'StandardScaler' from 'sklearn.model_selection' (/Library/Frameworks/Python.framework/Versions/3.10/lib/python3.10/site-packages/sklearn/model_selection/__init__.py)"
     ]
    }
   ],
   "source": [
    "# import dependencies\n",
    "#data processing\n",
    "import pandas as pd\n",
    "import random as rand\n",
    "import numpy as np\n",
    "#data visualization\n",
    "import seaborn as sns\n",
    "import matplotlib.pyplot as plt\n",
    "#Modeling\n",
    "from sklearn.ensemble import RandomForestClassifier\n",
    "from sklearn.model_selection import train_test_split\n",
    "from sklearn.metrics import accuracy_score, confusion_matrix, precision_score, recall_score, ConfusionMatrixDisplay\n",
    "from sklearn.model_selection import RandomizedSearchCV, train_test_split\n",
    "from scipy.stats import randint\n",
    "from sklearn.model_selection import StandardScaler\n",
    "#Tree visualization\n",
    "from sklearn.tree import export_graphviz\n",
    "from IPython.display import Image\n",
    " \n",
    "\n",
    "\n",
    "\n",
    "\n",
    "data = pd.read_csv('./fauxStudentGen.csv')\n",
    "data.head()"
   ]
  },
  {
   "cell_type": "code",
   "execution_count": 3,
   "metadata": {},
   "outputs": [
    {
     "data": {
      "text/html": [
       "<div>\n",
       "<style scoped>\n",
       "    .dataframe tbody tr th:only-of-type {\n",
       "        vertical-align: middle;\n",
       "    }\n",
       "\n",
       "    .dataframe tbody tr th {\n",
       "        vertical-align: top;\n",
       "    }\n",
       "\n",
       "    .dataframe thead th {\n",
       "        text-align: right;\n",
       "    }\n",
       "</style>\n",
       "<table border=\"1\" class=\"dataframe\">\n",
       "  <thead>\n",
       "    <tr style=\"text-align: right;\">\n",
       "      <th></th>\n",
       "      <th>Student Id</th>\n",
       "      <th>Student Name</th>\n",
       "      <th>Gender</th>\n",
       "      <th>Birthday</th>\n",
       "      <th>Zip Code</th>\n",
       "      <th>Assignment Type</th>\n",
       "      <th>Subject Category</th>\n",
       "      <th>Available Points</th>\n",
       "      <th>Points Recieved</th>\n",
       "      <th>Homework Assigned</th>\n",
       "      <th>Homework Submitted</th>\n",
       "      <th>Homework Duration</th>\n",
       "    </tr>\n",
       "  </thead>\n",
       "  <tbody>\n",
       "    <tr>\n",
       "      <th>0</th>\n",
       "      <td>9.0</td>\n",
       "      <td>Corey Castaneda</td>\n",
       "      <td>Male</td>\n",
       "      <td>2002-08-18</td>\n",
       "      <td>32201.0</td>\n",
       "      <td>Virtual</td>\n",
       "      <td>History and Tradition</td>\n",
       "      <td>50.0</td>\n",
       "      <td>23.0</td>\n",
       "      <td>2023-10-28</td>\n",
       "      <td>2023-10-29</td>\n",
       "      <td>1.0</td>\n",
       "    </tr>\n",
       "    <tr>\n",
       "      <th>1</th>\n",
       "      <td>44.0</td>\n",
       "      <td>Leah Pham</td>\n",
       "      <td>Female</td>\n",
       "      <td>2005-11-11</td>\n",
       "      <td>32201.0</td>\n",
       "      <td>Virtual</td>\n",
       "      <td>History and Tradition</td>\n",
       "      <td>50.0</td>\n",
       "      <td>5.0</td>\n",
       "      <td>2023-10-24</td>\n",
       "      <td>2023-10-29</td>\n",
       "      <td>5.0</td>\n",
       "    </tr>\n",
       "    <tr>\n",
       "      <th>2</th>\n",
       "      <td>36.0</td>\n",
       "      <td>Catherine Gomez</td>\n",
       "      <td>Female</td>\n",
       "      <td>2005-01-08</td>\n",
       "      <td>32204.0</td>\n",
       "      <td>Virtual</td>\n",
       "      <td>Academics</td>\n",
       "      <td>10.0</td>\n",
       "      <td>3.0</td>\n",
       "      <td>2023-10-21</td>\n",
       "      <td>2023-10-23</td>\n",
       "      <td>2.0</td>\n",
       "    </tr>\n",
       "    <tr>\n",
       "      <th>3</th>\n",
       "      <td>80.0</td>\n",
       "      <td>George Anderson</td>\n",
       "      <td>Male</td>\n",
       "      <td>2002-11-14</td>\n",
       "      <td>32205.0</td>\n",
       "      <td>In-Person</td>\n",
       "      <td>Health &amp; Wellness</td>\n",
       "      <td>40.0</td>\n",
       "      <td>4.0</td>\n",
       "      <td>2023-10-28</td>\n",
       "      <td>2023-10-28</td>\n",
       "      <td>0.0</td>\n",
       "    </tr>\n",
       "    <tr>\n",
       "      <th>4</th>\n",
       "      <td>60.0</td>\n",
       "      <td>Elijah Wood</td>\n",
       "      <td>Male</td>\n",
       "      <td>2005-07-13</td>\n",
       "      <td>32205.0</td>\n",
       "      <td>Virtual</td>\n",
       "      <td>Business &amp; Finance</td>\n",
       "      <td>30.0</td>\n",
       "      <td>12.0</td>\n",
       "      <td>2023-10-25</td>\n",
       "      <td>2023-10-26</td>\n",
       "      <td>1.0</td>\n",
       "    </tr>\n",
       "  </tbody>\n",
       "</table>\n",
       "</div>"
      ],
      "text/plain": [
       "   Student Id     Student Name  Gender    Birthday  Zip Code Assignment Type  \\\n",
       "0         9.0  Corey Castaneda    Male  2002-08-18   32201.0         Virtual   \n",
       "1        44.0        Leah Pham  Female  2005-11-11   32201.0         Virtual   \n",
       "2        36.0  Catherine Gomez  Female  2005-01-08   32204.0         Virtual   \n",
       "3        80.0  George Anderson    Male  2002-11-14   32205.0       In-Person   \n",
       "4        60.0      Elijah Wood    Male  2005-07-13   32205.0         Virtual   \n",
       "\n",
       "        Subject Category  Available Points  Points Recieved Homework Assigned  \\\n",
       "0  History and Tradition              50.0             23.0        2023-10-28   \n",
       "1  History and Tradition              50.0              5.0        2023-10-24   \n",
       "2              Academics              10.0              3.0        2023-10-21   \n",
       "3      Health & Wellness              40.0              4.0        2023-10-28   \n",
       "4     Business & Finance              30.0             12.0        2023-10-25   \n",
       "\n",
       "  Homework Submitted  Homework Duration  \n",
       "0         2023-10-29                1.0  \n",
       "1         2023-10-29                5.0  \n",
       "2         2023-10-23                2.0  \n",
       "3         2023-10-28                0.0  \n",
       "4         2023-10-26                1.0  "
      ]
     },
     "execution_count": 3,
     "metadata": {},
     "output_type": "execute_result"
    }
   ],
   "source": [
    "data = data.dropna()\n",
    "data.head()"
   ]
  },
  {
   "cell_type": "code",
   "execution_count": 4,
   "metadata": {},
   "outputs": [
    {
     "name": "stderr",
     "output_type": "stream",
     "text": [
      "/var/folders/4_/tl5y45h97j72d_pr9f2ddq6r0000gn/T/ipykernel_2732/3449598558.py:3: FutureWarning: The default value of numeric_only in DataFrame.corr is deprecated. In a future version, it will default to False. Select only valid columns or specify the value of numeric_only to silence this warning.\n",
      "  corr = data.corr()\n"
     ]
    },
    {
     "data": {
      "text/plain": [
       "<AxesSubplot:>"
      ]
     },
     "execution_count": 4,
     "metadata": {},
     "output_type": "execute_result"
    },
    {
     "data": {
      "image/png": "[encoded data removed]",
      "text/plain": [
       "<Figure size 432x288 with 2 Axes>"
      ]
     },
     "metadata": {
      "needs_background": "light"
     },
     "output_type": "display_data"
    }
   ],
   "source": [
    "#Get descriptive statistics on data\n",
    "%matplotlib inline\n",
    "corr = data.corr()\n",
    "sns.heatmap(corr, xticklabels=corr.columns, yticklabels=corr.columns)"
   ]
  },
  {
   "cell_type": "code",
   "execution_count": 8,
   "metadata": {},
   "outputs": [],
   "source": [
    "## break data into two arrays, (x,y) to train function\n",
    "X = data.drop('Homework Duration', axis=1)\n",
    "y = data['Homework Duration'] \n",
    "\n",
    "\n",
    "##use test train split model to split function\n",
    "X_train, X_test, y_train, y_test = train_test_split(X, y, test_size=0.2, random_state=1)\n",
    "\n"
   ]
  },
  {
   "cell_type": "code",
   "execution_count": null,
   "metadata": {},
   "outputs": [],
   "source": [
    "#Scaler for model fit\n",
    "scale = StandardScaler()\n",
    "X_train = scale.fit(X_train)\n",
    "X_test = scale.fit(X_test)"
   ]
  },
  {
   "cell_type": "markdown",
   "metadata": {},
   "source": []
  },
  {
   "cell_type": "code",
   "execution_count": null,
   "metadata": {},
   "outputs": [],
   "source": [
    "#Fitting decision tree classifier from train model"
   ]
  },
  {
   "cell_type": "code",
   "execution_count": 9,
   "metadata": {},
   "outputs": [],
   "source": [
    "#fit and evaluate model\n",
    "#rf = RandomForestClassifier()\n",
    "#rf.fit(X_train, y_train)"
   ]
  }
 ],
 "metadata": {
  "kernelspec": {
   "display_name": "Python 3",
   "language": "python",
   "name": "python3"
  },
  "language_info": {
   "codemirror_mode": {
    "name": "ipython",
    "version": 3
   },
   "file_extension": ".py",
   "mimetype": "text/x-python",
   "name": "python",
   "nbconvert_exporter": "python",
   "pygments_lexer": "ipython3",
   "version": "3.10.5"
  }
 },
 "nbformat": 4,
 "nbformat_minor": 2
}
