{
 "cells": [
  {
   "cell_type": "code",
   "execution_count": 1,
   "metadata": {},
   "outputs": [
    {
     "data": {
      "text/html": [
       "<div>\n",
       "<style scoped>\n",
       "    .dataframe tbody tr th:only-of-type {\n",
       "        vertical-align: middle;\n",
       "    }\n",
       "\n",
       "    .dataframe tbody tr th {\n",
       "        vertical-align: top;\n",
       "    }\n",
       "\n",
       "    .dataframe thead th {\n",
       "        text-align: right;\n",
       "    }\n",
       "</style>\n",
       "<table border=\"1\" class=\"dataframe\">\n",
       "  <thead>\n",
       "    <tr style=\"text-align: right;\">\n",
       "      <th></th>\n",
       "      <th>Student Id</th>\n",
       "      <th>Student Name</th>\n",
       "      <th>Gender</th>\n",
       "      <th>Birthday</th>\n",
       "      <th>Zip Code</th>\n",
       "      <th>Assignment Type</th>\n",
       "      <th>Subject Category</th>\n",
       "      <th>Available Points</th>\n",
       "      <th>Points Recieved</th>\n",
       "      <th>Homework assigned</th>\n",
       "      <th>Homework Submitted</th>\n",
       "    </tr>\n",
       "  </thead>\n",
       "  <tbody>\n",
       "    <tr>\n",
       "      <th>0</th>\n",
       "      <td>20.0</td>\n",
       "      <td>Lisa Hendricks DDS</td>\n",
       "      <td>Female</td>\n",
       "      <td>2000-10-05</td>\n",
       "      <td>32205.0</td>\n",
       "      <td>Virtual</td>\n",
       "      <td>History and Tradition</td>\n",
       "      <td>50.0</td>\n",
       "      <td>14.0</td>\n",
       "      <td>2023-09-23</td>\n",
       "      <td>2023-09-24</td>\n",
       "    </tr>\n",
       "    <tr>\n",
       "      <th>1</th>\n",
       "      <td>56.0</td>\n",
       "      <td>Felicia Sullivan</td>\n",
       "      <td>Female</td>\n",
       "      <td>2001-04-07</td>\n",
       "      <td>32204.0</td>\n",
       "      <td>In-Person</td>\n",
       "      <td>Health &amp; Wellness</td>\n",
       "      <td>40.0</td>\n",
       "      <td>9.0</td>\n",
       "      <td>2023-09-23</td>\n",
       "      <td>2023-09-23</td>\n",
       "    </tr>\n",
       "    <tr>\n",
       "      <th>2</th>\n",
       "      <td>85.0</td>\n",
       "      <td>William Reyes</td>\n",
       "      <td>Male</td>\n",
       "      <td>2003-12-22</td>\n",
       "      <td>32202.0</td>\n",
       "      <td>In-Person</td>\n",
       "      <td>Business &amp; Finance</td>\n",
       "      <td>30.0</td>\n",
       "      <td>18.0</td>\n",
       "      <td>2023-09-24</td>\n",
       "      <td>2023-09-24</td>\n",
       "    </tr>\n",
       "    <tr>\n",
       "      <th>3</th>\n",
       "      <td>78.0</td>\n",
       "      <td>Alexander Ray</td>\n",
       "      <td>Male</td>\n",
       "      <td>2003-01-04</td>\n",
       "      <td>32204.0</td>\n",
       "      <td>In-Person</td>\n",
       "      <td>Creativity(STEM)</td>\n",
       "      <td>20.0</td>\n",
       "      <td>15.0</td>\n",
       "      <td>2023-09-13</td>\n",
       "      <td>2023-09-18</td>\n",
       "    </tr>\n",
       "    <tr>\n",
       "      <th>4</th>\n",
       "      <td>60.0</td>\n",
       "      <td>Whitney Smith</td>\n",
       "      <td>Female</td>\n",
       "      <td>2006-05-21</td>\n",
       "      <td>32201.0</td>\n",
       "      <td>In-Person</td>\n",
       "      <td>Business &amp; Finance</td>\n",
       "      <td>30.0</td>\n",
       "      <td>28.0</td>\n",
       "      <td>2023-09-15</td>\n",
       "      <td>2023-09-15</td>\n",
       "    </tr>\n",
       "  </tbody>\n",
       "</table>\n",
       "</div>"
      ],
      "text/plain": [
       "   Student Id        Student Name  Gender    Birthday  Zip Code  \\\n",
       "0        20.0  Lisa Hendricks DDS  Female  2000-10-05   32205.0   \n",
       "1        56.0    Felicia Sullivan  Female  2001-04-07   32204.0   \n",
       "2        85.0       William Reyes    Male  2003-12-22   32202.0   \n",
       "3        78.0       Alexander Ray    Male  2003-01-04   32204.0   \n",
       "4        60.0       Whitney Smith  Female  2006-05-21   32201.0   \n",
       "\n",
       "  Assignment Type       Subject Category  Available Points  Points Recieved  \\\n",
       "0         Virtual  History and Tradition              50.0             14.0   \n",
       "1       In-Person      Health & Wellness              40.0              9.0   \n",
       "2       In-Person     Business & Finance              30.0             18.0   \n",
       "3       In-Person       Creativity(STEM)              20.0             15.0   \n",
       "4       In-Person     Business & Finance              30.0             28.0   \n",
       "\n",
       "  Homework assigned Homework Submitted  \n",
       "0        2023-09-23         2023-09-24  \n",
       "1        2023-09-23         2023-09-23  \n",
       "2        2023-09-24         2023-09-24  \n",
       "3        2023-09-13         2023-09-18  \n",
       "4        2023-09-15         2023-09-15  "
      ]
     },
     "execution_count": 1,
     "metadata": {},
     "output_type": "execute_result"
    }
   ],
   "source": [
    "# import dependencies\n",
    "import pandas as pd\n",
    "import random as rand\n",
    "import numpy as np\n",
    "import seaborn as sns\n",
    "import matplotlib.pyplot as plt\n",
    "\n",
    "\n",
    "\n",
    "\n",
    "data = pd.read_csv('./fauxStudentGen.csv')\n",
    "data.head()"
   ]
  },
  {
   "cell_type": "code",
   "execution_count": 2,
   "metadata": {},
   "outputs": [
    {
     "name": "stderr",
     "output_type": "stream",
     "text": [
      "/var/folders/4_/tl5y45h97j72d_pr9f2ddq6r0000gn/T/ipykernel_4039/3449598558.py:3: FutureWarning: The default value of numeric_only in DataFrame.corr is deprecated. In a future version, it will default to False. Select only valid columns or specify the value of numeric_only to silence this warning.\n",
      "  corr = data.corr()\n"
     ]
    },
    {
     "data": {
      "text/plain": [
       "<AxesSubplot:>"
      ]
     },
     "execution_count": 2,
     "metadata": {},
     "output_type": "execute_result"
    },
    {
     "data": {
      "image/png": "[encoded data removed]",
      "text/plain": [
       "<Figure size 432x288 with 2 Axes>"
      ]
     },
     "metadata": {
      "needs_background": "light"
     },
     "output_type": "display_data"
    }
   ],
   "source": [
    "#Get descriptive statistics on data\n",
    "%matplotlib inline\n",
    "corr = data.corr()\n",
    "sns.heatmap(corr, xticklabels=corr.columns, yticklabels=corr.columns)"
   ]
  },
  {
   "cell_type": "code",
   "execution_count": 3,
   "metadata": {},
   "outputs": [],
   "source": [
    "#descriptive stats on data generated\n",
    "#rand.shuffle(data)\n",
    "\n",
    "\n",
    "\n",
    "#splitting percentage\n",
    "test_percentage = 0.10\n",
    "#\n",
    "validation_percentage = 0.20\n",
    "#\n",
    "train_percentage = 0.10"
   ]
  },
  {
   "cell_type": "code",
   "execution_count": 4,
   "metadata": {},
   "outputs": [],
   "source": [
    "#calculate the splitting indices for array\n",
    "test_split_ratio = int(test_percentage * len(data))\n",
    "validation_split_ratio = int((validation_percentage + test_percentage) * len(data))\n"
   ]
  },
  {
   "cell_type": "code",
   "execution_count": 5,
   "metadata": {},
   "outputs": [],
   "source": [
    "#use numpy split function to split and train dataset\n",
    "test, valid, train = np.split(data, [test_split_ratio, validation_split_ratio])"
   ]
  },
  {
   "cell_type": "code",
   "execution_count": 7,
   "metadata": {},
   "outputs": [
    {
     "ename": "KeyError",
     "evalue": "'Features'",
     "output_type": "error",
     "traceback": [
      "\u001b[0;31m---------------------------------------------------------------------------\u001b[0m",
      "\u001b[0;31mKeyError\u001b[0m                                  Traceback (most recent call last)",
      "File \u001b[0;32m/Library/Frameworks/Python.framework/Versions/3.10/lib/python3.10/site-packages/pandas/core/indexes/base.py:3800\u001b[0m, in \u001b[0;36mIndex.get_loc\u001b[0;34m(self, key, method, tolerance)\u001b[0m\n\u001b[1;32m   3799\u001b[0m \u001b[39mtry\u001b[39;00m:\n\u001b[0;32m-> 3800\u001b[0m     \u001b[39mreturn\u001b[39;00m \u001b[39mself\u001b[39;49m\u001b[39m.\u001b[39;49m_engine\u001b[39m.\u001b[39;49mget_loc(casted_key)\n\u001b[1;32m   3801\u001b[0m \u001b[39mexcept\u001b[39;00m \u001b[39mKeyError\u001b[39;00m \u001b[39mas\u001b[39;00m err:\n",
      "File \u001b[0;32m/Library/Frameworks/Python.framework/Versions/3.10/lib/python3.10/site-packages/pandas/_libs/index.pyx:138\u001b[0m, in \u001b[0;36mpandas._libs.index.IndexEngine.get_loc\u001b[0;34m()\u001b[0m\n",
      "File \u001b[0;32m/Library/Frameworks/Python.framework/Versions/3.10/lib/python3.10/site-packages/pandas/_libs/index.pyx:165\u001b[0m, in \u001b[0;36mpandas._libs.index.IndexEngine.get_loc\u001b[0;34m()\u001b[0m\n",
      "File \u001b[0;32mpandas/_libs/hashtable_class_helper.pxi:5745\u001b[0m, in \u001b[0;36mpandas._libs.hashtable.PyObjectHashTable.get_item\u001b[0;34m()\u001b[0m\n",
      "File \u001b[0;32mpandas/_libs/hashtable_class_helper.pxi:5753\u001b[0m, in \u001b[0;36mpandas._libs.hashtable.PyObjectHashTable.get_item\u001b[0;34m()\u001b[0m\n",
      "\u001b[0;31mKeyError\u001b[0m: 'Features'",
      "\nThe above exception was the direct cause of the following exception:\n",
      "\u001b[0;31mKeyError\u001b[0m                                  Traceback (most recent call last)",
      "\u001b[1;32m/Users/moni/Desktop/Scratchwerk/Projects/StudentAssignmentPredictionModel/fauxStudentGen/studentPredictionModel.ipynb Cell 6\u001b[0m line \u001b[0;36m<cell line: 13>\u001b[0;34m()\u001b[0m\n\u001b[1;32m      <a href='vscode-notebook-cell:/Users/moni/Desktop/Scratchwerk/Projects/StudentAssignmentPredictionModel/fauxStudentGen/studentPredictionModel.ipynb#W5sZmlsZQ%3D%3D?line=5'>6</a>\u001b[0m test \u001b[39m=\u001b[39m test\u001b[39m.\u001b[39mreset_index(drop\u001b[39m=\u001b[39m\u001b[39mTrue\u001b[39;00m)\n\u001b[1;32m     <a href='vscode-notebook-cell:/Users/moni/Desktop/Scratchwerk/Projects/StudentAssignmentPredictionModel/fauxStudentGen/studentPredictionModel.ipynb#W5sZmlsZQ%3D%3D?line=9'>10</a>\u001b[0m \u001b[39m#Model development: break the data into test and train data and use the dissected data\u001b[39;00m\n\u001b[1;32m     <a href='vscode-notebook-cell:/Users/moni/Desktop/Scratchwerk/Projects/StudentAssignmentPredictionModel/fauxStudentGen/studentPredictionModel.ipynb#W5sZmlsZQ%3D%3D?line=10'>11</a>\u001b[0m \u001b[39m# to try evaluate and test algorithms to make model more stable \u001b[39;00m\n\u001b[0;32m---> <a href='vscode-notebook-cell:/Users/moni/Desktop/Scratchwerk/Projects/StudentAssignmentPredictionModel/fauxStudentGen/studentPredictionModel.ipynb#W5sZmlsZQ%3D%3D?line=12'>13</a>\u001b[0m features_train \u001b[39m=\u001b[39m train[\u001b[39mlist\u001b[39m(data[\u001b[39m'\u001b[39;49m\u001b[39mFeatures\u001b[39;49m\u001b[39m'\u001b[39;49m])]\n\u001b[1;32m     <a href='vscode-notebook-cell:/Users/moni/Desktop/Scratchwerk/Projects/StudentAssignmentPredictionModel/fauxStudentGen/studentPredictionModel.ipynb#W5sZmlsZQ%3D%3D?line=13'>14</a>\u001b[0m label_train \u001b[39m=\u001b[39m train[\u001b[39m'\u001b[39m\u001b[39mtarget\u001b[39m\u001b[39m'\u001b[39m]\n\u001b[1;32m     <a href='vscode-notebook-cell:/Users/moni/Desktop/Scratchwerk/Projects/StudentAssignmentPredictionModel/fauxStudentGen/studentPredictionModel.ipynb#W5sZmlsZQ%3D%3D?line=14'>15</a>\u001b[0m featured_test \u001b[39m=\u001b[39m test[\u001b[39mlist\u001b[39m(data[\u001b[39m'\u001b[39m\u001b[39mFeatures\u001b[39m\u001b[39m'\u001b[39m])]\n",
      "File \u001b[0;32m/Library/Frameworks/Python.framework/Versions/3.10/lib/python3.10/site-packages/pandas/core/frame.py:3805\u001b[0m, in \u001b[0;36mDataFrame.__getitem__\u001b[0;34m(self, key)\u001b[0m\n\u001b[1;32m   3803\u001b[0m \u001b[39mif\u001b[39;00m \u001b[39mself\u001b[39m\u001b[39m.\u001b[39mcolumns\u001b[39m.\u001b[39mnlevels \u001b[39m>\u001b[39m \u001b[39m1\u001b[39m:\n\u001b[1;32m   3804\u001b[0m     \u001b[39mreturn\u001b[39;00m \u001b[39mself\u001b[39m\u001b[39m.\u001b[39m_getitem_multilevel(key)\n\u001b[0;32m-> 3805\u001b[0m indexer \u001b[39m=\u001b[39m \u001b[39mself\u001b[39;49m\u001b[39m.\u001b[39;49mcolumns\u001b[39m.\u001b[39;49mget_loc(key)\n\u001b[1;32m   3806\u001b[0m \u001b[39mif\u001b[39;00m is_integer(indexer):\n\u001b[1;32m   3807\u001b[0m     indexer \u001b[39m=\u001b[39m [indexer]\n",
      "File \u001b[0;32m/Library/Frameworks/Python.framework/Versions/3.10/lib/python3.10/site-packages/pandas/core/indexes/base.py:3802\u001b[0m, in \u001b[0;36mIndex.get_loc\u001b[0;34m(self, key, method, tolerance)\u001b[0m\n\u001b[1;32m   3800\u001b[0m     \u001b[39mreturn\u001b[39;00m \u001b[39mself\u001b[39m\u001b[39m.\u001b[39m_engine\u001b[39m.\u001b[39mget_loc(casted_key)\n\u001b[1;32m   3801\u001b[0m \u001b[39mexcept\u001b[39;00m \u001b[39mKeyError\u001b[39;00m \u001b[39mas\u001b[39;00m err:\n\u001b[0;32m-> 3802\u001b[0m     \u001b[39mraise\u001b[39;00m \u001b[39mKeyError\u001b[39;00m(key) \u001b[39mfrom\u001b[39;00m \u001b[39merr\u001b[39;00m\n\u001b[1;32m   3803\u001b[0m \u001b[39mexcept\u001b[39;00m \u001b[39mTypeError\u001b[39;00m:\n\u001b[1;32m   3804\u001b[0m     \u001b[39m# If we have a listlike key, _check_indexing_error will raise\u001b[39;00m\n\u001b[1;32m   3805\u001b[0m     \u001b[39m#  InvalidIndexError. Otherwise we fall through and re-raise\u001b[39;00m\n\u001b[1;32m   3806\u001b[0m     \u001b[39m#  the TypeError.\u001b[39;00m\n\u001b[1;32m   3807\u001b[0m     \u001b[39mself\u001b[39m\u001b[39m.\u001b[39m_check_indexing_error(key)\n",
      "\u001b[0;31mKeyError\u001b[0m: 'Features'"
     ]
    }
   ],
   "source": [
    "from sklearn.cross_validation import train_test_split\n",
    "\n",
    "train, test = train_test_split(data, test_size = 0.4)\n",
    "\n",
    "train = train.reset_index(drop=True)\n",
    "test = test.reset_index(drop=True)\n",
    "\n",
    "\n",
    "\n",
    "#Model development: break the data into test and train data and use the dissected data\n",
    "# to try evaluate and test algorithms to make model more stable \n",
    "\n",
    "features_train = train[list(vif['Features'])]\n",
    "label_train = train['target']\n",
    "featured_test = test[list(vif['Features'])]\n",
    "label_test = test['target']\n"
   ]
  },
  {
   "cell_type": "code",
   "execution_count": null,
   "metadata": {},
   "outputs": [],
   "source": [
    "#use random forest predicative analysis to test data\n",
    "#use the data broken in last cell for further analysis\n",
    "\n",
    "#from sklearn.ensemble import RandomForestClassifier\n",
    "#clf = RandomForestClassifier()\n",
    "\n",
    "\n",
    "#clf.fit(features_train)"
   ]
  }
 ],
 "metadata": {
  "kernelspec": {
   "display_name": "Python 3",
   "language": "python",
   "name": "python3"
  },
  "language_info": {
   "codemirror_mode": {
    "name": "ipython",
    "version": 3
   },
   "file_extension": ".py",
   "mimetype": "text/x-python",
   "name": "python",
   "nbconvert_exporter": "python",
   "pygments_lexer": "ipython3",
   "version": "3.10.5"
  }
 },
 "nbformat": 4,
 "nbformat_minor": 2
}
