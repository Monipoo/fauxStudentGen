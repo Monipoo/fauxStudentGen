{
 "cells": [
  {
   "cell_type": "code",
   "execution_count": 23,
   "metadata": {},
   "outputs": [
    {
     "data": {
      "text/html": [
       "<div>\n",
       "<style scoped>\n",
       "    .dataframe tbody tr th:only-of-type {\n",
       "        vertical-align: middle;\n",
       "    }\n",
       "\n",
       "    .dataframe tbody tr th {\n",
       "        vertical-align: top;\n",
       "    }\n",
       "\n",
       "    .dataframe thead th {\n",
       "        text-align: right;\n",
       "    }\n",
       "</style>\n",
       "<table border=\"1\" class=\"dataframe\">\n",
       "  <thead>\n",
       "    <tr style=\"text-align: right;\">\n",
       "      <th></th>\n",
       "      <th>Student Id</th>\n",
       "      <th>Student Name</th>\n",
       "      <th>Gender</th>\n",
       "      <th>Birthday</th>\n",
       "      <th>Zip Code</th>\n",
       "      <th>Assignment Type</th>\n",
       "      <th>Subject Category</th>\n",
       "      <th>Available Points</th>\n",
       "      <th>Points Recieved</th>\n",
       "      <th>Homework assigned</th>\n",
       "      <th>Homework Submitted</th>\n",
       "      <th>Homework Assigned</th>\n",
       "      <th>Homework Duration</th>\n",
       "    </tr>\n",
       "  </thead>\n",
       "  <tbody>\n",
       "    <tr>\n",
       "      <th>0</th>\n",
       "      <td>20.0</td>\n",
       "      <td>Daniel Ward</td>\n",
       "      <td>Male</td>\n",
       "      <td>2005-01-21</td>\n",
       "      <td>32204.0</td>\n",
       "      <td>In-Person</td>\n",
       "      <td>Creativity(STEM)</td>\n",
       "      <td>20.0</td>\n",
       "      <td>7.0</td>\n",
       "      <td>2023-10-18</td>\n",
       "      <td>2023-10-28</td>\n",
       "      <td>NaN</td>\n",
       "      <td>NaN</td>\n",
       "    </tr>\n",
       "    <tr>\n",
       "      <th>1</th>\n",
       "      <td>56.0</td>\n",
       "      <td>Kristi Pena</td>\n",
       "      <td>Female</td>\n",
       "      <td>2006-05-02</td>\n",
       "      <td>32034.0</td>\n",
       "      <td>Virtual</td>\n",
       "      <td>Creativity(STEM)</td>\n",
       "      <td>20.0</td>\n",
       "      <td>5.0</td>\n",
       "      <td>NaN</td>\n",
       "      <td>2023-10-29</td>\n",
       "      <td>2023-10-29</td>\n",
       "      <td>0.0</td>\n",
       "    </tr>\n",
       "    <tr>\n",
       "      <th>2</th>\n",
       "      <td>82.0</td>\n",
       "      <td>Mckenzie Martinez</td>\n",
       "      <td>Female</td>\n",
       "      <td>2005-04-12</td>\n",
       "      <td>32203.0</td>\n",
       "      <td>In-Person</td>\n",
       "      <td>Academics</td>\n",
       "      <td>10.0</td>\n",
       "      <td>0.0</td>\n",
       "      <td>NaN</td>\n",
       "      <td>2023-10-24</td>\n",
       "      <td>2023-10-21</td>\n",
       "      <td>3.0</td>\n",
       "    </tr>\n",
       "    <tr>\n",
       "      <th>3</th>\n",
       "      <td>40.0</td>\n",
       "      <td>Patrick Taylor</td>\n",
       "      <td>Male</td>\n",
       "      <td>2006-07-21</td>\n",
       "      <td>32203.0</td>\n",
       "      <td>Virtual</td>\n",
       "      <td>History and Tradition</td>\n",
       "      <td>50.0</td>\n",
       "      <td>41.0</td>\n",
       "      <td>2023-10-19</td>\n",
       "      <td>2023-10-23</td>\n",
       "      <td>NaN</td>\n",
       "      <td>NaN</td>\n",
       "    </tr>\n",
       "    <tr>\n",
       "      <th>4</th>\n",
       "      <td>60.0</td>\n",
       "      <td>Dorothy Hicks</td>\n",
       "      <td>Female</td>\n",
       "      <td>2003-09-16</td>\n",
       "      <td>32203.0</td>\n",
       "      <td>Virtual</td>\n",
       "      <td>Health &amp; Wellness</td>\n",
       "      <td>40.0</td>\n",
       "      <td>0.0</td>\n",
       "      <td>NaN</td>\n",
       "      <td>2023-10-20</td>\n",
       "      <td>2023-10-16</td>\n",
       "      <td>4.0</td>\n",
       "    </tr>\n",
       "  </tbody>\n",
       "</table>\n",
       "</div>"
      ],
      "text/plain": [
       "   Student Id       Student Name  Gender    Birthday  Zip Code  \\\n",
       "0        20.0        Daniel Ward    Male  2005-01-21   32204.0   \n",
       "1        56.0        Kristi Pena  Female  2006-05-02   32034.0   \n",
       "2        82.0  Mckenzie Martinez  Female  2005-04-12   32203.0   \n",
       "3        40.0     Patrick Taylor    Male  2006-07-21   32203.0   \n",
       "4        60.0      Dorothy Hicks  Female  2003-09-16   32203.0   \n",
       "\n",
       "  Assignment Type       Subject Category  Available Points  Points Recieved  \\\n",
       "0       In-Person       Creativity(STEM)              20.0              7.0   \n",
       "1         Virtual       Creativity(STEM)              20.0              5.0   \n",
       "2       In-Person              Academics              10.0              0.0   \n",
       "3         Virtual  History and Tradition              50.0             41.0   \n",
       "4         Virtual      Health & Wellness              40.0              0.0   \n",
       "\n",
       "  Homework assigned Homework Submitted Homework Assigned  Homework Duration  \n",
       "0        2023-10-18         2023-10-28               NaN                NaN  \n",
       "1               NaN         2023-10-29        2023-10-29                0.0  \n",
       "2               NaN         2023-10-24        2023-10-21                3.0  \n",
       "3        2023-10-19         2023-10-23               NaN                NaN  \n",
       "4               NaN         2023-10-20        2023-10-16                4.0  "
      ]
     },
     "execution_count": 23,
     "metadata": {},
     "output_type": "execute_result"
    }
   ],
   "source": [
    "# import dependencies\n",
    "#data processing\n",
    "import pandas as pd\n",
    "import random as rand\n",
    "import numpy as np\n",
    "#data visualization\n",
    "import seaborn as sns\n",
    "import matplotlib.pyplot as plt\n",
    "#Modeling\n",
    "from sklearn.model_selection import train_test_split\n",
    "from sklearn.metrics import accuracy_score, confusion_matrix, precision_score, recall_score, ConfusionMatrixDisplay\n",
    "from sklearn.model_selection import RandomizedSearchCV, train_test_split\n",
    "from scipy.stats import randint\n",
    "#Tree visualization\n",
    "from sklearn.tree import export_graphviz\n",
    "from IPython.display import Image\n",
    "import graphviz\n",
    "\n",
    "\n",
    "\n",
    "\n",
    "data = pd.read_csv('./fauxStudentGen.csv')\n",
    "data.head()"
   ]
  },
  {
   "cell_type": "code",
   "execution_count": null,
   "metadata": {},
   "outputs": [],
   "source": []
  },
  {
   "cell_type": "code",
   "execution_count": null,
   "metadata": {},
   "outputs": [],
   "source": []
  },
  {
   "cell_type": "code",
   "execution_count": 16,
   "metadata": {},
   "outputs": [
    {
     "name": "stderr",
     "output_type": "stream",
     "text": [
      "/var/folders/4_/tl5y45h97j72d_pr9f2ddq6r0000gn/T/ipykernel_10510/3449598558.py:3: FutureWarning: The default value of numeric_only in DataFrame.corr is deprecated. In a future version, it will default to False. Select only valid columns or specify the value of numeric_only to silence this warning.\n",
      "  corr = data.corr()\n"
     ]
    },
    {
     "data": {
      "text/plain": [
       "<AxesSubplot:>"
      ]
     },
     "execution_count": 16,
     "metadata": {},
     "output_type": "execute_result"
    },
    {
     "data": {
      "image/png": "[encoded data removed]",
      "text/plain": [
       "<Figure size 432x288 with 2 Axes>"
      ]
     },
     "metadata": {
      "needs_background": "light"
     },
     "output_type": "display_data"
    }
   ],
   "source": [
    "#Get descriptive statistics on data\n",
    "%matplotlib inline\n",
    "corr = data.corr()\n",
    "sns.heatmap(corr, xticklabels=corr.columns, yticklabels=corr.columns)"
   ]
  },
  {
   "cell_type": "code",
   "execution_count": 17,
   "metadata": {},
   "outputs": [],
   "source": [
    "#descriptive stats on data generated\n",
    "#rand.shuffle(data)\n",
    "\n",
    "\n",
    "\n",
    "#splitting percentage\n",
    "test_percentage = 0.10\n",
    "#\n",
    "validation_percentage = 0.20\n",
    "#\n",
    "train_percentage = 0.10"
   ]
  },
  {
   "cell_type": "code",
   "execution_count": 18,
   "metadata": {},
   "outputs": [],
   "source": [
    "#calculate the splitting indices for array\n",
    "test_split_ratio = int(test_percentage * len(data))\n",
    "validation_split_ratio = int((validation_percentage + test_percentage) * len(data))\n"
   ]
  },
  {
   "cell_type": "code",
   "execution_count": 19,
   "metadata": {},
   "outputs": [],
   "source": [
    "#use numpy split function to split and train dataset\n",
    "test, valid, train = np.split(data, [test_split_ratio, validation_split_ratio])"
   ]
  },
  {
   "cell_type": "code",
   "execution_count": 20,
   "metadata": {},
   "outputs": [],
   "source": [
    "## break data into two arrays, (x,y) to train function\n",
    "## x = \n",
    "## y = \n",
    "\n",
    "\n",
    "##use test train split model to split function\n",
    "\n",
    "\n"
   ]
  },
  {
   "cell_type": "code",
   "execution_count": 21,
   "metadata": {},
   "outputs": [],
   "source": [
    "#use random forest predicative analysis to test data\n",
    "#use the data broken in last cell for further analysis\n",
    "\n",
    "#from sklearn.ensemble import RandomForestClassifier\n",
    "#clf = RandomForestClassifier()\n",
    "\n",
    "\n",
    "#clf.fit(features_train)"
   ]
  }
 ],
 "metadata": {
  "kernelspec": {
   "display_name": "Python 3",
   "language": "python",
   "name": "python3"
  },
  "language_info": {
   "codemirror_mode": {
    "name": "ipython",
    "version": 3
   },
   "file_extension": ".py",
   "mimetype": "text/x-python",
   "name": "python",
   "nbconvert_exporter": "python",
   "pygments_lexer": "ipython3",
   "version": "3.10.5"
  }
 },
 "nbformat": 4,
 "nbformat_minor": 2
}
